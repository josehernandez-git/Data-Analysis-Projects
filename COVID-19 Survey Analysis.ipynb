{
 "cells": [
  {
   "cell_type": "code",
   "execution_count": 7,
   "metadata": {},
   "outputs": [],
   "source": [
    "# Uploading the needed libraries\n",
    "\n",
    "import pandas as pd\n",
    "import numpy as np\n",
    "import matplotlib.pyplot as plt\n",
    "import seaborn as sns\n"
   ]
  },
  {
   "cell_type": "code",
   "execution_count": 11,
   "metadata": {},
   "outputs": [
    {
     "data": {
      "text/html": [
       "<div>\n",
       "<style scoped>\n",
       "    .dataframe tbody tr th:only-of-type {\n",
       "        vertical-align: middle;\n",
       "    }\n",
       "\n",
       "    .dataframe tbody tr th {\n",
       "        vertical-align: top;\n",
       "    }\n",
       "\n",
       "    .dataframe thead th {\n",
       "        text-align: right;\n",
       "    }\n",
       "</style>\n",
       "<table border=\"1\" class=\"dataframe\">\n",
       "  <thead>\n",
       "    <tr style=\"text-align: right;\">\n",
       "      <th></th>\n",
       "      <th>Timestamp</th>\n",
       "      <th>Score</th>\n",
       "      <th>How do you stay informed on COVID-19?</th>\n",
       "      <th>How frequently do you wash your hands?</th>\n",
       "      <th>When you leave your home, do you wear a mask?</th>\n",
       "      <th>How frequently do you leave your home for necessities? (Groceries, supplies, work, etc.)</th>\n",
       "      <th>Do you practice Social Distancing?</th>\n",
       "      <th>Do you live in a know COVID-19 hotspot?</th>\n",
       "    </tr>\n",
       "  </thead>\n",
       "  <tbody>\n",
       "    <tr>\n",
       "      <td>0</td>\n",
       "      <td>2020-05-04 03:33:57.455</td>\n",
       "      <td>0</td>\n",
       "      <td>Television News (CNN, FOX, MSNBC, etc.)</td>\n",
       "      <td>5 - 6 times a day.</td>\n",
       "      <td>Every time I leave and return to my home.</td>\n",
       "      <td>1 - 2 times a week.</td>\n",
       "      <td>Yes, but not as frequent.</td>\n",
       "      <td>Yes</td>\n",
       "    </tr>\n",
       "    <tr>\n",
       "      <td>1</td>\n",
       "      <td>2020-05-04 03:46:59.777</td>\n",
       "      <td>0</td>\n",
       "      <td>Social Media (Facebook, Twitter, etc.)</td>\n",
       "      <td>7 or more.</td>\n",
       "      <td>I only wear a mask when entering a public place.</td>\n",
       "      <td>3 - 4 times a week.</td>\n",
       "      <td>Yes, all the time.</td>\n",
       "      <td>I do not know</td>\n",
       "    </tr>\n",
       "    <tr>\n",
       "      <td>2</td>\n",
       "      <td>2020-05-04 04:02:37.788</td>\n",
       "      <td>0</td>\n",
       "      <td>Television News (CNN, FOX, MSNBC, etc.)</td>\n",
       "      <td>7 or more.</td>\n",
       "      <td>I only wear a mask when entering a public place.</td>\n",
       "      <td>3 - 4 times a week.</td>\n",
       "      <td>Yes, all the time.</td>\n",
       "      <td>No</td>\n",
       "    </tr>\n",
       "    <tr>\n",
       "      <td>3</td>\n",
       "      <td>2020-05-04 06:27:37.739</td>\n",
       "      <td>0</td>\n",
       "      <td>Other</td>\n",
       "      <td>1 - 2 times a day.</td>\n",
       "      <td>Every time I leave and return to my home.</td>\n",
       "      <td>1 - 2 times a week.</td>\n",
       "      <td>Yes, all the time.</td>\n",
       "      <td>No</td>\n",
       "    </tr>\n",
       "    <tr>\n",
       "      <td>4</td>\n",
       "      <td>2020-05-04 06:56:56.204</td>\n",
       "      <td>0</td>\n",
       "      <td>Social Media (Facebook, Twitter, etc.)</td>\n",
       "      <td>3 - 4 times a day.</td>\n",
       "      <td>Every time I leave and return to my home.</td>\n",
       "      <td>1 - 2 times a week.</td>\n",
       "      <td>Yes, all the time.</td>\n",
       "      <td>Yes</td>\n",
       "    </tr>\n",
       "    <tr>\n",
       "      <td>...</td>\n",
       "      <td>...</td>\n",
       "      <td>...</td>\n",
       "      <td>...</td>\n",
       "      <td>...</td>\n",
       "      <td>...</td>\n",
       "      <td>...</td>\n",
       "      <td>...</td>\n",
       "      <td>...</td>\n",
       "    </tr>\n",
       "    <tr>\n",
       "      <td>338</td>\n",
       "      <td>2020-05-09 21:28:45.960</td>\n",
       "      <td>0</td>\n",
       "      <td>Social Media (Facebook, Twitter, etc.)</td>\n",
       "      <td>5 - 6 times a day.</td>\n",
       "      <td>I only wear a mask when entering a public place.</td>\n",
       "      <td>1 - 2 times a week.</td>\n",
       "      <td>Yes, all the time.</td>\n",
       "      <td>No</td>\n",
       "    </tr>\n",
       "    <tr>\n",
       "      <td>339</td>\n",
       "      <td>2020-05-09 22:35:43.490</td>\n",
       "      <td>0</td>\n",
       "      <td>Social Media (Facebook, Twitter, etc.)</td>\n",
       "      <td>1 - 2 times a day.</td>\n",
       "      <td>I don't wear a mask.</td>\n",
       "      <td>3 - 4 times a week.</td>\n",
       "      <td>Yes, all the time.</td>\n",
       "      <td>No</td>\n",
       "    </tr>\n",
       "    <tr>\n",
       "      <td>340</td>\n",
       "      <td>2020-05-10 04:25:59.521</td>\n",
       "      <td>0</td>\n",
       "      <td>Television News (CNN, FOX, MSNBC, etc.)</td>\n",
       "      <td>5 - 6 times a day.</td>\n",
       "      <td>I leave with my mask ON, but have it OFF when ...</td>\n",
       "      <td>1 - 2 times a week.</td>\n",
       "      <td>Yes, all the time.</td>\n",
       "      <td>Yes</td>\n",
       "    </tr>\n",
       "    <tr>\n",
       "      <td>341</td>\n",
       "      <td>2020-05-10 11:22:30.337</td>\n",
       "      <td>0</td>\n",
       "      <td>Social Media (Facebook, Twitter, etc.)</td>\n",
       "      <td>7 or more.</td>\n",
       "      <td>Every time I leave and return to my home.</td>\n",
       "      <td>3 - 4 times a week.</td>\n",
       "      <td>Yes, all the time.</td>\n",
       "      <td>Yes</td>\n",
       "    </tr>\n",
       "    <tr>\n",
       "      <td>342</td>\n",
       "      <td>2020-05-10 16:14:52.536</td>\n",
       "      <td>0</td>\n",
       "      <td>Social Media (Facebook, Twitter, etc.)</td>\n",
       "      <td>3 - 4 times a day.</td>\n",
       "      <td>I only wear a mask when entering a public place.</td>\n",
       "      <td>3 - 4 times a week.</td>\n",
       "      <td>Yes, but not as frequent.</td>\n",
       "      <td>No</td>\n",
       "    </tr>\n",
       "  </tbody>\n",
       "</table>\n",
       "<p>343 rows × 8 columns</p>\n",
       "</div>"
      ],
      "text/plain": [
       "                  Timestamp  Score    How do you stay informed on COVID-19?  \\\n",
       "0   2020-05-04 03:33:57.455      0  Television News (CNN, FOX, MSNBC, etc.)   \n",
       "1   2020-05-04 03:46:59.777      0   Social Media (Facebook, Twitter, etc.)   \n",
       "2   2020-05-04 04:02:37.788      0  Television News (CNN, FOX, MSNBC, etc.)   \n",
       "3   2020-05-04 06:27:37.739      0                                    Other   \n",
       "4   2020-05-04 06:56:56.204      0   Social Media (Facebook, Twitter, etc.)   \n",
       "..                      ...    ...                                      ...   \n",
       "338 2020-05-09 21:28:45.960      0   Social Media (Facebook, Twitter, etc.)   \n",
       "339 2020-05-09 22:35:43.490      0   Social Media (Facebook, Twitter, etc.)   \n",
       "340 2020-05-10 04:25:59.521      0  Television News (CNN, FOX, MSNBC, etc.)   \n",
       "341 2020-05-10 11:22:30.337      0   Social Media (Facebook, Twitter, etc.)   \n",
       "342 2020-05-10 16:14:52.536      0   Social Media (Facebook, Twitter, etc.)   \n",
       "\n",
       "    How frequently do you wash your hands?  \\\n",
       "0                       5 - 6 times a day.   \n",
       "1                               7 or more.   \n",
       "2                               7 or more.   \n",
       "3                       1 - 2 times a day.   \n",
       "4                       3 - 4 times a day.   \n",
       "..                                     ...   \n",
       "338                     5 - 6 times a day.   \n",
       "339                     1 - 2 times a day.   \n",
       "340                     5 - 6 times a day.   \n",
       "341                             7 or more.   \n",
       "342                     3 - 4 times a day.   \n",
       "\n",
       "         When you leave your home, do you wear a mask?  \\\n",
       "0            Every time I leave and return to my home.   \n",
       "1     I only wear a mask when entering a public place.   \n",
       "2     I only wear a mask when entering a public place.   \n",
       "3            Every time I leave and return to my home.   \n",
       "4            Every time I leave and return to my home.   \n",
       "..                                                 ...   \n",
       "338   I only wear a mask when entering a public place.   \n",
       "339                               I don't wear a mask.   \n",
       "340  I leave with my mask ON, but have it OFF when ...   \n",
       "341          Every time I leave and return to my home.   \n",
       "342   I only wear a mask when entering a public place.   \n",
       "\n",
       "    How frequently do you leave your home for necessities? (Groceries, supplies, work, etc.)  \\\n",
       "0                                  1 - 2 times a week.                                         \n",
       "1                                  3 - 4 times a week.                                         \n",
       "2                                  3 - 4 times a week.                                         \n",
       "3                                  1 - 2 times a week.                                         \n",
       "4                                  1 - 2 times a week.                                         \n",
       "..                                                 ...                                         \n",
       "338                                1 - 2 times a week.                                         \n",
       "339                                3 - 4 times a week.                                         \n",
       "340                                1 - 2 times a week.                                         \n",
       "341                                3 - 4 times a week.                                         \n",
       "342                                3 - 4 times a week.                                         \n",
       "\n",
       "    Do you practice Social Distancing? Do you live in a know COVID-19 hotspot?  \n",
       "0            Yes, but not as frequent.                                     Yes  \n",
       "1                   Yes, all the time.                           I do not know  \n",
       "2                   Yes, all the time.                                      No  \n",
       "3                   Yes, all the time.                                      No  \n",
       "4                   Yes, all the time.                                     Yes  \n",
       "..                                 ...                                     ...  \n",
       "338                 Yes, all the time.                                      No  \n",
       "339                 Yes, all the time.                                      No  \n",
       "340                 Yes, all the time.                                     Yes  \n",
       "341                 Yes, all the time.                                     Yes  \n",
       "342          Yes, but not as frequent.                                      No  \n",
       "\n",
       "[343 rows x 8 columns]"
      ]
     },
     "execution_count": 11,
     "metadata": {},
     "output_type": "execute_result"
    }
   ],
   "source": [
    "# Reading in the data file\n",
    "data_set = pd.read_excel('/Users/josehernandez/Desktop/Your safety during COVID-19 (Responses).xlsx')\n",
    "data_set"
   ]
  },
  {
   "cell_type": "markdown",
   "metadata": {},
   "source": [
    "# Washing Hands & Social Distancing"
   ]
  },
  {
   "cell_type": "code",
   "execution_count": 12,
   "metadata": {},
   "outputs": [
    {
     "data": {
      "text/html": [
       "<div>\n",
       "<style scoped>\n",
       "    .dataframe tbody tr th:only-of-type {\n",
       "        vertical-align: middle;\n",
       "    }\n",
       "\n",
       "    .dataframe tbody tr th {\n",
       "        vertical-align: top;\n",
       "    }\n",
       "\n",
       "    .dataframe thead th {\n",
       "        text-align: right;\n",
       "    }\n",
       "</style>\n",
       "<table border=\"1\" class=\"dataframe\">\n",
       "  <thead>\n",
       "    <tr style=\"text-align: right;\">\n",
       "      <th></th>\n",
       "      <th>How frequently do you wash your hands?</th>\n",
       "      <th>Do you practice Social Distancing?</th>\n",
       "    </tr>\n",
       "  </thead>\n",
       "  <tbody>\n",
       "    <tr>\n",
       "      <td>0</td>\n",
       "      <td>5 - 6 times a day.</td>\n",
       "      <td>Yes, but not as frequent.</td>\n",
       "    </tr>\n",
       "    <tr>\n",
       "      <td>1</td>\n",
       "      <td>7 or more.</td>\n",
       "      <td>Yes, all the time.</td>\n",
       "    </tr>\n",
       "    <tr>\n",
       "      <td>2</td>\n",
       "      <td>7 or more.</td>\n",
       "      <td>Yes, all the time.</td>\n",
       "    </tr>\n",
       "    <tr>\n",
       "      <td>3</td>\n",
       "      <td>1 - 2 times a day.</td>\n",
       "      <td>Yes, all the time.</td>\n",
       "    </tr>\n",
       "    <tr>\n",
       "      <td>4</td>\n",
       "      <td>3 - 4 times a day.</td>\n",
       "      <td>Yes, all the time.</td>\n",
       "    </tr>\n",
       "    <tr>\n",
       "      <td>...</td>\n",
       "      <td>...</td>\n",
       "      <td>...</td>\n",
       "    </tr>\n",
       "    <tr>\n",
       "      <td>338</td>\n",
       "      <td>5 - 6 times a day.</td>\n",
       "      <td>Yes, all the time.</td>\n",
       "    </tr>\n",
       "    <tr>\n",
       "      <td>339</td>\n",
       "      <td>1 - 2 times a day.</td>\n",
       "      <td>Yes, all the time.</td>\n",
       "    </tr>\n",
       "    <tr>\n",
       "      <td>340</td>\n",
       "      <td>5 - 6 times a day.</td>\n",
       "      <td>Yes, all the time.</td>\n",
       "    </tr>\n",
       "    <tr>\n",
       "      <td>341</td>\n",
       "      <td>7 or more.</td>\n",
       "      <td>Yes, all the time.</td>\n",
       "    </tr>\n",
       "    <tr>\n",
       "      <td>342</td>\n",
       "      <td>3 - 4 times a day.</td>\n",
       "      <td>Yes, but not as frequent.</td>\n",
       "    </tr>\n",
       "  </tbody>\n",
       "</table>\n",
       "<p>343 rows × 2 columns</p>\n",
       "</div>"
      ],
      "text/plain": [
       "    How frequently do you wash your hands? Do you practice Social Distancing?\n",
       "0                       5 - 6 times a day.          Yes, but not as frequent.\n",
       "1                               7 or more.                 Yes, all the time.\n",
       "2                               7 or more.                 Yes, all the time.\n",
       "3                       1 - 2 times a day.                 Yes, all the time.\n",
       "4                       3 - 4 times a day.                 Yes, all the time.\n",
       "..                                     ...                                ...\n",
       "338                     5 - 6 times a day.                 Yes, all the time.\n",
       "339                     1 - 2 times a day.                 Yes, all the time.\n",
       "340                     5 - 6 times a day.                 Yes, all the time.\n",
       "341                             7 or more.                 Yes, all the time.\n",
       "342                     3 - 4 times a day.          Yes, but not as frequent.\n",
       "\n",
       "[343 rows x 2 columns]"
      ]
     },
     "execution_count": 12,
     "metadata": {},
     "output_type": "execute_result"
    }
   ],
   "source": [
    "# New data frame containing frequent hand wash and social distancing \n",
    "\n",
    "Handwash_social =  data_set[['How frequently do you wash your hands?', 'Do you practice Social Distancing?']]\n",
    "Handwash_social"
   ]
  },
  {
   "cell_type": "code",
   "execution_count": 13,
   "metadata": {},
   "outputs": [
    {
     "data": {
      "text/html": [
       "<div>\n",
       "<style scoped>\n",
       "    .dataframe tbody tr th:only-of-type {\n",
       "        vertical-align: middle;\n",
       "    }\n",
       "\n",
       "    .dataframe tbody tr th {\n",
       "        vertical-align: top;\n",
       "    }\n",
       "\n",
       "    .dataframe thead th {\n",
       "        text-align: right;\n",
       "    }\n",
       "</style>\n",
       "<table border=\"1\" class=\"dataframe\">\n",
       "  <thead>\n",
       "    <tr style=\"text-align: right;\">\n",
       "      <th></th>\n",
       "      <th>Do you practice Social Distancing?</th>\n",
       "      <th>How frequently do you wash your hands?</th>\n",
       "    </tr>\n",
       "    <tr>\n",
       "      <th>How frequently do you wash your hands?</th>\n",
       "      <th></th>\n",
       "      <th></th>\n",
       "    </tr>\n",
       "  </thead>\n",
       "  <tbody>\n",
       "    <tr>\n",
       "      <td>0 (Zero)</td>\n",
       "      <td>6</td>\n",
       "      <td>6</td>\n",
       "    </tr>\n",
       "    <tr>\n",
       "      <td>1 - 2 times a day.</td>\n",
       "      <td>27</td>\n",
       "      <td>27</td>\n",
       "    </tr>\n",
       "    <tr>\n",
       "      <td>3 - 4 times a day.</td>\n",
       "      <td>96</td>\n",
       "      <td>97</td>\n",
       "    </tr>\n",
       "    <tr>\n",
       "      <td>5 - 6 times a day.</td>\n",
       "      <td>98</td>\n",
       "      <td>98</td>\n",
       "    </tr>\n",
       "    <tr>\n",
       "      <td>7 or more.</td>\n",
       "      <td>110</td>\n",
       "      <td>110</td>\n",
       "    </tr>\n",
       "  </tbody>\n",
       "</table>\n",
       "</div>"
      ],
      "text/plain": [
       "                                        Do you practice Social Distancing?  \\\n",
       "How frequently do you wash your hands?                                       \n",
       "0 (Zero)                                                                 6   \n",
       "1 - 2 times a day.                                                      27   \n",
       "3 - 4 times a day.                                                      96   \n",
       "5 - 6 times a day.                                                      98   \n",
       "7 or more.                                                             110   \n",
       "\n",
       "                                        How frequently do you wash your hands?  \n",
       "How frequently do you wash your hands?                                          \n",
       "0 (Zero)                                                                     6  \n",
       "1 - 2 times a day.                                                          27  \n",
       "3 - 4 times a day.                                                          97  \n",
       "5 - 6 times a day.                                                          98  \n",
       "7 or more.                                                                 110  "
      ]
     },
     "execution_count": 13,
     "metadata": {},
     "output_type": "execute_result"
    }
   ],
   "source": [
    "First_stat = Handwash_social.groupby('How frequently do you wash your hands?')[['Do you practice Social Distancing?','How frequently do you wash your hands?']].count()\n",
    "First_stat"
   ]
  },
  {
   "cell_type": "code",
   "execution_count": 14,
   "metadata": {
    "scrolled": true
   },
   "outputs": [
    {
     "data": {
      "text/html": [
       "<div>\n",
       "<style scoped>\n",
       "    .dataframe tbody tr th:only-of-type {\n",
       "        vertical-align: middle;\n",
       "    }\n",
       "\n",
       "    .dataframe tbody tr th {\n",
       "        vertical-align: top;\n",
       "    }\n",
       "\n",
       "    .dataframe thead th {\n",
       "        text-align: right;\n",
       "    }\n",
       "</style>\n",
       "<table border=\"1\" class=\"dataframe\">\n",
       "  <thead>\n",
       "    <tr style=\"text-align: right;\">\n",
       "      <th></th>\n",
       "      <th>Do you practice Social Distancing?</th>\n",
       "      <th>How frequently do you wash your hands?</th>\n",
       "    </tr>\n",
       "  </thead>\n",
       "  <tbody>\n",
       "    <tr>\n",
       "      <td>count</td>\n",
       "      <td>5.000000</td>\n",
       "      <td>5.000000</td>\n",
       "    </tr>\n",
       "    <tr>\n",
       "      <td>mean</td>\n",
       "      <td>67.400000</td>\n",
       "      <td>67.600000</td>\n",
       "    </tr>\n",
       "    <tr>\n",
       "      <td>std</td>\n",
       "      <td>47.358209</td>\n",
       "      <td>47.511051</td>\n",
       "    </tr>\n",
       "    <tr>\n",
       "      <td>min</td>\n",
       "      <td>6.000000</td>\n",
       "      <td>6.000000</td>\n",
       "    </tr>\n",
       "    <tr>\n",
       "      <td>25%</td>\n",
       "      <td>27.000000</td>\n",
       "      <td>27.000000</td>\n",
       "    </tr>\n",
       "    <tr>\n",
       "      <td>50%</td>\n",
       "      <td>96.000000</td>\n",
       "      <td>97.000000</td>\n",
       "    </tr>\n",
       "    <tr>\n",
       "      <td>75%</td>\n",
       "      <td>98.000000</td>\n",
       "      <td>98.000000</td>\n",
       "    </tr>\n",
       "    <tr>\n",
       "      <td>max</td>\n",
       "      <td>110.000000</td>\n",
       "      <td>110.000000</td>\n",
       "    </tr>\n",
       "  </tbody>\n",
       "</table>\n",
       "</div>"
      ],
      "text/plain": [
       "       Do you practice Social Distancing?  \\\n",
       "count                            5.000000   \n",
       "mean                            67.400000   \n",
       "std                             47.358209   \n",
       "min                              6.000000   \n",
       "25%                             27.000000   \n",
       "50%                             96.000000   \n",
       "75%                             98.000000   \n",
       "max                            110.000000   \n",
       "\n",
       "       How frequently do you wash your hands?  \n",
       "count                                5.000000  \n",
       "mean                                67.600000  \n",
       "std                                 47.511051  \n",
       "min                                  6.000000  \n",
       "25%                                 27.000000  \n",
       "50%                                 97.000000  \n",
       "75%                                 98.000000  \n",
       "max                                110.000000  "
      ]
     },
     "execution_count": 14,
     "metadata": {},
     "output_type": "execute_result"
    }
   ],
   "source": [
    "First_stat.describe()\n",
    "\n",
    "# 6 people that said they do not practice social distancing, said they do not wash their hands.\n",
    "\n",
    "# 27 people that said that they practice social distancing, said they frequently wash their hands 1-2 times a day\n",
    "\n",
    "# 96 people that said they practice social distancing, said they wash thier hands 3-4 times a day\n",
    "\n",
    "# 98 people that said they practice social distancing, said they wash their hands 5-6 times a day\n",
    "\n",
    "# 110 people that said they practice social distancing, said they wash their hands 7 or more times a day."
   ]
  },
  {
   "cell_type": "code",
   "execution_count": 15,
   "metadata": {},
   "outputs": [
    {
     "data": {
      "text/plain": [
       "{'whiskers': [<matplotlib.lines.Line2D at 0x1a16ab37d0>,\n",
       "  <matplotlib.lines.Line2D at 0x1a16ab96d0>],\n",
       " 'caps': [<matplotlib.lines.Line2D at 0x1a16abcad0>,\n",
       "  <matplotlib.lines.Line2D at 0x1a16b6d610>],\n",
       " 'boxes': [<matplotlib.lines.Line2D at 0x1a16ab3d10>],\n",
       " 'medians': [<matplotlib.lines.Line2D at 0x1a16aaad90>],\n",
       " 'fliers': [<matplotlib.lines.Line2D at 0x1a16a1c050>],\n",
       " 'means': []}"
      ]
     },
     "execution_count": 15,
     "metadata": {},
     "output_type": "execute_result"
    },
    {
     "data": {
      "image/png": "[encoded data removed]",
      "text/plain": [
       "<Figure size 432x288 with 1 Axes>"
      ]
     },
     "metadata": {
      "needs_background": "light"
     },
     "output_type": "display_data"
    }
   ],
   "source": [
    "# labeling the max, 75%,50%,25% and min of social distancing \n",
    "\n",
    "plt.boxplot(First_stat['Do you practice Social Distancing?'])\n"
   ]
  },
  {
   "cell_type": "code",
   "execution_count": 16,
   "metadata": {},
   "outputs": [
    {
     "data": {
      "text/plain": [
       "{'whiskers': [<matplotlib.lines.Line2D at 0x1a16b91e10>,\n",
       "  <matplotlib.lines.Line2D at 0x1a16b953d0>],\n",
       " 'caps': [<matplotlib.lines.Line2D at 0x1a16b95b50>,\n",
       "  <matplotlib.lines.Line2D at 0x1a16b7f210>],\n",
       " 'boxes': [<matplotlib.lines.Line2D at 0x1a16b91d50>],\n",
       " 'medians': [<matplotlib.lines.Line2D at 0x1a173a6610>],\n",
       " 'fliers': [<matplotlib.lines.Line2D at 0x1a173a6ad0>],\n",
       " 'means': []}"
      ]
     },
     "execution_count": 16,
     "metadata": {},
     "output_type": "execute_result"
    },
    {
     "data": {
      "image/png": "[encoded data removed]",
      "text/plain": [
       "<Figure size 432x288 with 1 Axes>"
      ]
     },
     "metadata": {
      "needs_background": "light"
     },
     "output_type": "display_data"
    }
   ],
   "source": [
    "plt.boxplot(First_stat['How frequently do you wash your hands?'])"
   ]
  },
  {
   "cell_type": "code",
   "execution_count": 17,
   "metadata": {},
   "outputs": [
    {
     "data": {
      "text/plain": [
       "<matplotlib.axes._subplots.AxesSubplot at 0x1a16b919d0>"
      ]
     },
     "execution_count": 17,
     "metadata": {},
     "output_type": "execute_result"
    },
    {
     "data": {
      "image/png": "[encoded data removed]",
      "text/plain": [
       "<Figure size 432x288 with 1 Axes>"
      ]
     },
     "metadata": {
      "needs_background": "light"
     },
     "output_type": "display_data"
    }
   ],
   "source": [
    "sns.regplot(First_stat['Do you practice Social Distancing?'],\n",
    "            First_stat['How frequently do you wash your hands?'])"
   ]
  },
  {
   "cell_type": "code",
   "execution_count": 18,
   "metadata": {},
   "outputs": [
    {
     "data": {
      "text/plain": [
       "([0, 1, 2, 3, 4], <a list of 5 Text xticklabel objects>)"
      ]
     },
     "execution_count": 18,
     "metadata": {},
     "output_type": "execute_result"
    },
    {
     "data": {
      "image/png": "[encoded data removed]",
      "text/plain": [
       "<Figure size 432x288 with 1 Axes>"
      ]
     },
     "metadata": {
      "needs_background": "light"
     },
     "output_type": "display_data"
    }
   ],
   "source": [
    "plt.plot(First_stat)\n",
    "plt.xticks(rotation=45)"
   ]
  },
  {
   "cell_type": "markdown",
   "metadata": {},
   "source": [
    "# Frequently Leaving & COVID-19 Hotspot"
   ]
  },
  {
   "cell_type": "code",
   "execution_count": 19,
   "metadata": {},
   "outputs": [
    {
     "data": {
      "text/html": [
       "<div>\n",
       "<style scoped>\n",
       "    .dataframe tbody tr th:only-of-type {\n",
       "        vertical-align: middle;\n",
       "    }\n",
       "\n",
       "    .dataframe tbody tr th {\n",
       "        vertical-align: top;\n",
       "    }\n",
       "\n",
       "    .dataframe thead th {\n",
       "        text-align: right;\n",
       "    }\n",
       "</style>\n",
       "<table border=\"1\" class=\"dataframe\">\n",
       "  <thead>\n",
       "    <tr style=\"text-align: right;\">\n",
       "      <th></th>\n",
       "      <th>How frequently do you leave your home for necessities? (Groceries, supplies, work, etc.)</th>\n",
       "      <th>Do you live in a know COVID-19 hotspot?</th>\n",
       "    </tr>\n",
       "  </thead>\n",
       "  <tbody>\n",
       "    <tr>\n",
       "      <td>0</td>\n",
       "      <td>1 - 2 times a week.</td>\n",
       "      <td>Yes</td>\n",
       "    </tr>\n",
       "    <tr>\n",
       "      <td>1</td>\n",
       "      <td>3 - 4 times a week.</td>\n",
       "      <td>I do not know</td>\n",
       "    </tr>\n",
       "    <tr>\n",
       "      <td>2</td>\n",
       "      <td>3 - 4 times a week.</td>\n",
       "      <td>No</td>\n",
       "    </tr>\n",
       "    <tr>\n",
       "      <td>3</td>\n",
       "      <td>1 - 2 times a week.</td>\n",
       "      <td>No</td>\n",
       "    </tr>\n",
       "    <tr>\n",
       "      <td>4</td>\n",
       "      <td>1 - 2 times a week.</td>\n",
       "      <td>Yes</td>\n",
       "    </tr>\n",
       "    <tr>\n",
       "      <td>...</td>\n",
       "      <td>...</td>\n",
       "      <td>...</td>\n",
       "    </tr>\n",
       "    <tr>\n",
       "      <td>338</td>\n",
       "      <td>1 - 2 times a week.</td>\n",
       "      <td>No</td>\n",
       "    </tr>\n",
       "    <tr>\n",
       "      <td>339</td>\n",
       "      <td>3 - 4 times a week.</td>\n",
       "      <td>No</td>\n",
       "    </tr>\n",
       "    <tr>\n",
       "      <td>340</td>\n",
       "      <td>1 - 2 times a week.</td>\n",
       "      <td>Yes</td>\n",
       "    </tr>\n",
       "    <tr>\n",
       "      <td>341</td>\n",
       "      <td>3 - 4 times a week.</td>\n",
       "      <td>Yes</td>\n",
       "    </tr>\n",
       "    <tr>\n",
       "      <td>342</td>\n",
       "      <td>3 - 4 times a week.</td>\n",
       "      <td>No</td>\n",
       "    </tr>\n",
       "  </tbody>\n",
       "</table>\n",
       "<p>343 rows × 2 columns</p>\n",
       "</div>"
      ],
      "text/plain": [
       "    How frequently do you leave your home for necessities? (Groceries, supplies, work, etc.)  \\\n",
       "0                                  1 - 2 times a week.                                         \n",
       "1                                  3 - 4 times a week.                                         \n",
       "2                                  3 - 4 times a week.                                         \n",
       "3                                  1 - 2 times a week.                                         \n",
       "4                                  1 - 2 times a week.                                         \n",
       "..                                                 ...                                         \n",
       "338                                1 - 2 times a week.                                         \n",
       "339                                3 - 4 times a week.                                         \n",
       "340                                1 - 2 times a week.                                         \n",
       "341                                3 - 4 times a week.                                         \n",
       "342                                3 - 4 times a week.                                         \n",
       "\n",
       "    Do you live in a know COVID-19 hotspot?  \n",
       "0                                       Yes  \n",
       "1                             I do not know  \n",
       "2                                        No  \n",
       "3                                        No  \n",
       "4                                       Yes  \n",
       "..                                      ...  \n",
       "338                                      No  \n",
       "339                                      No  \n",
       "340                                     Yes  \n",
       "341                                     Yes  \n",
       "342                                      No  \n",
       "\n",
       "[343 rows x 2 columns]"
      ]
     },
     "execution_count": 19,
     "metadata": {},
     "output_type": "execute_result"
    }
   ],
   "source": [
    "# New data frame for leaving and hotspot\n",
    "\n",
    "Freq_hotspot = data_set[['How frequently do you leave your home for necessities? (Groceries, supplies, work, etc.)'\n",
    "                        ,'Do you live in a know COVID-19 hotspot?']]\n",
    "Freq_hotspot"
   ]
  },
  {
   "cell_type": "code",
   "execution_count": 20,
   "metadata": {},
   "outputs": [
    {
     "data": {
      "text/html": [
       "<div>\n",
       "<style scoped>\n",
       "    .dataframe tbody tr th:only-of-type {\n",
       "        vertical-align: middle;\n",
       "    }\n",
       "\n",
       "    .dataframe tbody tr th {\n",
       "        vertical-align: top;\n",
       "    }\n",
       "\n",
       "    .dataframe thead th {\n",
       "        text-align: right;\n",
       "    }\n",
       "</style>\n",
       "<table border=\"1\" class=\"dataframe\">\n",
       "  <thead>\n",
       "    <tr style=\"text-align: right;\">\n",
       "      <th></th>\n",
       "      <th>How frequently do you leave your home for necessities? (Groceries, supplies, work, etc.)</th>\n",
       "      <th>Do you live in a know COVID-19 hotspot?</th>\n",
       "    </tr>\n",
       "    <tr>\n",
       "      <th>How frequently do you leave your home for necessities? (Groceries, supplies, work, etc.)</th>\n",
       "      <th></th>\n",
       "      <th></th>\n",
       "    </tr>\n",
       "  </thead>\n",
       "  <tbody>\n",
       "    <tr>\n",
       "      <td>1 - 2 times a week.</td>\n",
       "      <td>181</td>\n",
       "      <td>181</td>\n",
       "    </tr>\n",
       "    <tr>\n",
       "      <td>3 - 4 times a week.</td>\n",
       "      <td>50</td>\n",
       "      <td>50</td>\n",
       "    </tr>\n",
       "    <tr>\n",
       "      <td>5 - 6 times a week.</td>\n",
       "      <td>23</td>\n",
       "      <td>23</td>\n",
       "    </tr>\n",
       "    <tr>\n",
       "      <td>7 or more.</td>\n",
       "      <td>16</td>\n",
       "      <td>16</td>\n",
       "    </tr>\n",
       "    <tr>\n",
       "      <td>I don't leave the house.</td>\n",
       "      <td>68</td>\n",
       "      <td>68</td>\n",
       "    </tr>\n",
       "  </tbody>\n",
       "</table>\n",
       "</div>"
      ],
      "text/plain": [
       "                                                    How frequently do you leave your home for necessities? (Groceries, supplies, work, etc.)  \\\n",
       "How frequently do you leave your home for neces...                                                                                             \n",
       "1 - 2 times a week.                                                                               181                                          \n",
       "3 - 4 times a week.                                                                                50                                          \n",
       "5 - 6 times a week.                                                                                23                                          \n",
       "7 or more.                                                                                         16                                          \n",
       "I don't leave the house.                                                                           68                                          \n",
       "\n",
       "                                                    Do you live in a know COVID-19 hotspot?  \n",
       "How frequently do you leave your home for neces...                                           \n",
       "1 - 2 times a week.                                                                     181  \n",
       "3 - 4 times a week.                                                                      50  \n",
       "5 - 6 times a week.                                                                      23  \n",
       "7 or more.                                                                               16  \n",
       "I don't leave the house.                                                                 68  "
      ]
     },
     "execution_count": 20,
     "metadata": {},
     "output_type": "execute_result"
    }
   ],
   "source": [
    "# Notes:\n",
    "\n",
    "Second_stat = Freq_hotspot.groupby('How frequently do you leave your home for necessities? (Groceries, supplies, work, etc.)')[\n",
    "    ['How frequently do you leave your home for necessities? (Groceries, supplies, work, etc.)',\n",
    "    'Do you live in a know COVID-19 hotspot?']].count()\n",
    "Second_stat"
   ]
  },
  {
   "cell_type": "code",
   "execution_count": 21,
   "metadata": {},
   "outputs": [
    {
     "data": {
      "text/html": [
       "<div>\n",
       "<style scoped>\n",
       "    .dataframe tbody tr th:only-of-type {\n",
       "        vertical-align: middle;\n",
       "    }\n",
       "\n",
       "    .dataframe tbody tr th {\n",
       "        vertical-align: top;\n",
       "    }\n",
       "\n",
       "    .dataframe thead th {\n",
       "        text-align: right;\n",
       "    }\n",
       "</style>\n",
       "<table border=\"1\" class=\"dataframe\">\n",
       "  <thead>\n",
       "    <tr style=\"text-align: right;\">\n",
       "      <th></th>\n",
       "      <th>How frequently do you leave your home for necessities? (Groceries, supplies, work, etc.)</th>\n",
       "      <th>Do you live in a know COVID-19 hotspot?</th>\n",
       "    </tr>\n",
       "    <tr>\n",
       "      <th>Do you live in a know COVID-19 hotspot?</th>\n",
       "      <th></th>\n",
       "      <th></th>\n",
       "    </tr>\n",
       "  </thead>\n",
       "  <tbody>\n",
       "    <tr>\n",
       "      <td>I do not know</td>\n",
       "      <td>81</td>\n",
       "      <td>81</td>\n",
       "    </tr>\n",
       "    <tr>\n",
       "      <td>No</td>\n",
       "      <td>156</td>\n",
       "      <td>156</td>\n",
       "    </tr>\n",
       "    <tr>\n",
       "      <td>Yes</td>\n",
       "      <td>101</td>\n",
       "      <td>101</td>\n",
       "    </tr>\n",
       "  </tbody>\n",
       "</table>\n",
       "</div>"
      ],
      "text/plain": [
       "                                         How frequently do you leave your home for necessities? (Groceries, supplies, work, etc.)  \\\n",
       "Do you live in a know COVID-19 hotspot?                                                                                             \n",
       "I do not know                                                                           81                                          \n",
       "No                                                                                     156                                          \n",
       "Yes                                                                                    101                                          \n",
       "\n",
       "                                         Do you live in a know COVID-19 hotspot?  \n",
       "Do you live in a know COVID-19 hotspot?                                           \n",
       "I do not know                                                                 81  \n",
       "No                                                                           156  \n",
       "Yes                                                                          101  "
      ]
     },
     "execution_count": 21,
     "metadata": {},
     "output_type": "execute_result"
    }
   ],
   "source": [
    "Second_stat1 = Freq_hotspot.groupby('Do you live in a know COVID-19 hotspot?')[\n",
    "    ['How frequently do you leave your home for necessities? (Groceries, supplies, work, etc.)',\n",
    "    'Do you live in a know COVID-19 hotspot?']].count()\n",
    "Second_stat1"
   ]
  },
  {
   "cell_type": "code",
   "execution_count": 22,
   "metadata": {},
   "outputs": [
    {
     "data": {
      "text/html": [
       "<div>\n",
       "<style scoped>\n",
       "    .dataframe tbody tr th:only-of-type {\n",
       "        vertical-align: middle;\n",
       "    }\n",
       "\n",
       "    .dataframe tbody tr th {\n",
       "        vertical-align: top;\n",
       "    }\n",
       "\n",
       "    .dataframe thead th {\n",
       "        text-align: right;\n",
       "    }\n",
       "</style>\n",
       "<table border=\"1\" class=\"dataframe\">\n",
       "  <thead>\n",
       "    <tr style=\"text-align: right;\">\n",
       "      <th></th>\n",
       "      <th>How frequently do you leave your home for necessities? (Groceries, supplies, work, etc.)</th>\n",
       "      <th>Do you live in a know COVID-19 hotspot?</th>\n",
       "    </tr>\n",
       "  </thead>\n",
       "  <tbody>\n",
       "    <tr>\n",
       "      <td>count</td>\n",
       "      <td>5.000000</td>\n",
       "      <td>5.000000</td>\n",
       "    </tr>\n",
       "    <tr>\n",
       "      <td>mean</td>\n",
       "      <td>67.600000</td>\n",
       "      <td>67.600000</td>\n",
       "    </tr>\n",
       "    <tr>\n",
       "      <td>std</td>\n",
       "      <td>66.748034</td>\n",
       "      <td>66.748034</td>\n",
       "    </tr>\n",
       "    <tr>\n",
       "      <td>min</td>\n",
       "      <td>16.000000</td>\n",
       "      <td>16.000000</td>\n",
       "    </tr>\n",
       "    <tr>\n",
       "      <td>25%</td>\n",
       "      <td>23.000000</td>\n",
       "      <td>23.000000</td>\n",
       "    </tr>\n",
       "    <tr>\n",
       "      <td>50%</td>\n",
       "      <td>50.000000</td>\n",
       "      <td>50.000000</td>\n",
       "    </tr>\n",
       "    <tr>\n",
       "      <td>75%</td>\n",
       "      <td>68.000000</td>\n",
       "      <td>68.000000</td>\n",
       "    </tr>\n",
       "    <tr>\n",
       "      <td>max</td>\n",
       "      <td>181.000000</td>\n",
       "      <td>181.000000</td>\n",
       "    </tr>\n",
       "  </tbody>\n",
       "</table>\n",
       "</div>"
      ],
      "text/plain": [
       "       How frequently do you leave your home for necessities? (Groceries, supplies, work, etc.)  \\\n",
       "count                                           5.000000                                          \n",
       "mean                                           67.600000                                          \n",
       "std                                            66.748034                                          \n",
       "min                                            16.000000                                          \n",
       "25%                                            23.000000                                          \n",
       "50%                                            50.000000                                          \n",
       "75%                                            68.000000                                          \n",
       "max                                           181.000000                                          \n",
       "\n",
       "       Do you live in a know COVID-19 hotspot?  \n",
       "count                                 5.000000  \n",
       "mean                                 67.600000  \n",
       "std                                  66.748034  \n",
       "min                                  16.000000  \n",
       "25%                                  23.000000  \n",
       "50%                                  50.000000  \n",
       "75%                                  68.000000  \n",
       "max                                 181.000000  "
      ]
     },
     "execution_count": 22,
     "metadata": {},
     "output_type": "execute_result"
    }
   ],
   "source": [
    "Second_stat.describe()"
   ]
  },
  {
   "cell_type": "code",
   "execution_count": 23,
   "metadata": {},
   "outputs": [
    {
     "data": {
      "text/html": [
       "<div>\n",
       "<style scoped>\n",
       "    .dataframe tbody tr th:only-of-type {\n",
       "        vertical-align: middle;\n",
       "    }\n",
       "\n",
       "    .dataframe tbody tr th {\n",
       "        vertical-align: top;\n",
       "    }\n",
       "\n",
       "    .dataframe thead th {\n",
       "        text-align: right;\n",
       "    }\n",
       "</style>\n",
       "<table border=\"1\" class=\"dataframe\">\n",
       "  <thead>\n",
       "    <tr style=\"text-align: right;\">\n",
       "      <th></th>\n",
       "      <th>How frequently do you leave your home for necessities? (Groceries, supplies, work, etc.)</th>\n",
       "      <th>Do you live in a know COVID-19 hotspot?</th>\n",
       "    </tr>\n",
       "  </thead>\n",
       "  <tbody>\n",
       "    <tr>\n",
       "      <td>count</td>\n",
       "      <td>3.000000</td>\n",
       "      <td>3.000000</td>\n",
       "    </tr>\n",
       "    <tr>\n",
       "      <td>mean</td>\n",
       "      <td>112.666667</td>\n",
       "      <td>112.666667</td>\n",
       "    </tr>\n",
       "    <tr>\n",
       "      <td>std</td>\n",
       "      <td>38.837267</td>\n",
       "      <td>38.837267</td>\n",
       "    </tr>\n",
       "    <tr>\n",
       "      <td>min</td>\n",
       "      <td>81.000000</td>\n",
       "      <td>81.000000</td>\n",
       "    </tr>\n",
       "    <tr>\n",
       "      <td>25%</td>\n",
       "      <td>91.000000</td>\n",
       "      <td>91.000000</td>\n",
       "    </tr>\n",
       "    <tr>\n",
       "      <td>50%</td>\n",
       "      <td>101.000000</td>\n",
       "      <td>101.000000</td>\n",
       "    </tr>\n",
       "    <tr>\n",
       "      <td>75%</td>\n",
       "      <td>128.500000</td>\n",
       "      <td>128.500000</td>\n",
       "    </tr>\n",
       "    <tr>\n",
       "      <td>max</td>\n",
       "      <td>156.000000</td>\n",
       "      <td>156.000000</td>\n",
       "    </tr>\n",
       "  </tbody>\n",
       "</table>\n",
       "</div>"
      ],
      "text/plain": [
       "       How frequently do you leave your home for necessities? (Groceries, supplies, work, etc.)  \\\n",
       "count                                           3.000000                                          \n",
       "mean                                          112.666667                                          \n",
       "std                                            38.837267                                          \n",
       "min                                            81.000000                                          \n",
       "25%                                            91.000000                                          \n",
       "50%                                           101.000000                                          \n",
       "75%                                           128.500000                                          \n",
       "max                                           156.000000                                          \n",
       "\n",
       "       Do you live in a know COVID-19 hotspot?  \n",
       "count                                 3.000000  \n",
       "mean                                112.666667  \n",
       "std                                  38.837267  \n",
       "min                                  81.000000  \n",
       "25%                                  91.000000  \n",
       "50%                                 101.000000  \n",
       "75%                                 128.500000  \n",
       "max                                 156.000000  "
      ]
     },
     "execution_count": 23,
     "metadata": {},
     "output_type": "execute_result"
    }
   ],
   "source": [
    "Second_stat1.describe()"
   ]
  },
  {
   "cell_type": "code",
   "execution_count": 24,
   "metadata": {},
   "outputs": [
    {
     "data": {
      "text/plain": [
       "{'whiskers': [<matplotlib.lines.Line2D at 0x1a1765c750>,\n",
       "  <matplotlib.lines.Line2D at 0x1a17667890>],\n",
       " 'caps': [<matplotlib.lines.Line2D at 0x1a17667d90>,\n",
       "  <matplotlib.lines.Line2D at 0x1a17654310>],\n",
       " 'boxes': [<matplotlib.lines.Line2D at 0x1a1765c710>],\n",
       " 'medians': [<matplotlib.lines.Line2D at 0x1a1766d850>],\n",
       " 'fliers': [<matplotlib.lines.Line2D at 0x1a1766dd10>],\n",
       " 'means': []}"
      ]
     },
     "execution_count": 24,
     "metadata": {},
     "output_type": "execute_result"
    },
    {
     "data": {
      "image/png": "[encoded data removed]",
      "text/plain": [
       "<Figure size 432x288 with 1 Axes>"
      ]
     },
     "metadata": {
      "needs_background": "light"
     },
     "output_type": "display_data"
    }
   ],
   "source": [
    "plt.boxplot(Second_stat['How frequently do you leave your home for necessities? (Groceries, supplies, work, etc.)'])"
   ]
  },
  {
   "cell_type": "code",
   "execution_count": 25,
   "metadata": {},
   "outputs": [
    {
     "data": {
      "text/plain": [
       "{'whiskers': [<matplotlib.lines.Line2D at 0x1a177380d0>,\n",
       "  <matplotlib.lines.Line2D at 0x1a17723a50>],\n",
       " 'caps': [<matplotlib.lines.Line2D at 0x1a1773c710>,\n",
       "  <matplotlib.lines.Line2D at 0x1a1773cc10>],\n",
       " 'boxes': [<matplotlib.lines.Line2D at 0x1a17738090>],\n",
       " 'medians': [<matplotlib.lines.Line2D at 0x1a17738cd0>],\n",
       " 'fliers': [<matplotlib.lines.Line2D at 0x1a17743690>],\n",
       " 'means': []}"
      ]
     },
     "execution_count": 25,
     "metadata": {},
     "output_type": "execute_result"
    },
    {
     "data": {
      "image/png": "[encoded data removed]",
      "text/plain": [
       "<Figure size 432x288 with 1 Axes>"
      ]
     },
     "metadata": {
      "needs_background": "light"
     },
     "output_type": "display_data"
    }
   ],
   "source": [
    "plt.boxplot(Second_stat1['How frequently do you leave your home for necessities? (Groceries, supplies, work, etc.)'])"
   ]
  },
  {
   "cell_type": "code",
   "execution_count": 26,
   "metadata": {},
   "outputs": [
    {
     "data": {
      "text/plain": [
       "<matplotlib.axes._subplots.AxesSubplot at 0x1a17761450>"
      ]
     },
     "execution_count": 26,
     "metadata": {},
     "output_type": "execute_result"
    },
    {
     "data": {
      "image/png": "[encoded data removed]",
      "text/plain": [
       "<Figure size 432x288 with 1 Axes>"
      ]
     },
     "metadata": {
      "needs_background": "light"
     },
     "output_type": "display_data"
    }
   ],
   "source": [
    "sns.regplot(Second_stat['How frequently do you leave your home for necessities? (Groceries, supplies, work, etc.)'],Second_stat['Do you live in a know COVID-19 hotspot?'])"
   ]
  }
 ],
 "metadata": {
  "kernelspec": {
   "display_name": "Python 3",
   "language": "python",
   "name": "python3"
  },
  "language_info": {
   "codemirror_mode": {
    "name": "ipython",
    "version": 3
   },
   "file_extension": ".py",
   "mimetype": "text/x-python",
   "name": "python",
   "nbconvert_exporter": "python",
   "pygments_lexer": "ipython3",
   "version": "3.7.4"
  }
 },
 "nbformat": 4,
 "nbformat_minor": 2
}
